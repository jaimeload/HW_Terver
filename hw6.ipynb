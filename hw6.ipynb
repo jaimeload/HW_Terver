{
  "nbformat": 4,
  "nbformat_minor": 0,
  "metadata": {
    "colab": {
      "provenance": [],
      "authorship_tag": "ABX9TyORzfvu1dEn1UAJC76Bwdgk",
      "include_colab_link": true
    },
    "kernelspec": {
      "name": "python3",
      "display_name": "Python 3"
    },
    "language_info": {
      "name": "python"
    }
  },
  "cells": [
    {
      "cell_type": "markdown",
      "metadata": {
        "id": "view-in-github",
        "colab_type": "text"
      },
      "source": [
        "<a href=\"https://colab.research.google.com/github/jaimeload/HW_Terver/blob/main/hw6.ipynb\" target=\"_parent\"><img src=\"https://colab.research.google.com/assets/colab-badge.svg\" alt=\"Open In Colab\"/></a>"
      ]
    },
    {
      "cell_type": "code",
      "source": [
        "import numpy as np\n",
        "from scipy import stats"
      ],
      "metadata": {
        "id": "5F5qDVKcqoiF"
      },
      "execution_count": 8,
      "outputs": []
    },
    {
      "cell_type": "markdown",
      "source": [
        "##1\n",
        "Известно, что генеральная совокупность распределена нормально\n",
        "со средним квадратическим отклонением, равным 16.\n",
        "Найти доверительный интервал для оценки математического ожидания с надежностью\n",
        "0.95,\n",
        "если выборочная средняя M = 80, а объем выборки n = 256."
      ],
      "metadata": {
        "id": "Jxg61Gb0prJf"
      }
    },
    {
      "cell_type": "code",
      "execution_count": 2,
      "metadata": {
        "id": "J8-FSRyZpi4m"
      },
      "outputs": [],
      "source": [
        "M = 80\n",
        "α = 0.05\n",
        "σ = 16\n",
        "n = 256"
      ]
    },
    {
      "cell_type": "code",
      "source": [
        "z = stats.norm.ppf(α / 2)\n",
        "z"
      ],
      "metadata": {
        "colab": {
          "base_uri": "https://localhost:8080/"
        },
        "id": "AOl_oRH9rfsi",
        "outputId": "7e4f8944-8699-45d5-d46d-265f67d538f4"
      },
      "execution_count": 3,
      "outputs": [
        {
          "output_type": "execute_result",
          "data": {
            "text/plain": [
              "-1.9599639845400545"
            ]
          },
          "metadata": {},
          "execution_count": 3
        }
      ]
    },
    {
      "cell_type": "code",
      "source": [
        "M + z * (σ / np.sqrt(n)), M - z * (σ / np.sqrt(n))"
      ],
      "metadata": {
        "colab": {
          "base_uri": "https://localhost:8080/"
        },
        "id": "d2R9iXMPrux1",
        "outputId": "e2c68a63-6294-4e3d-ab24-19a150ebdf7c"
      },
      "execution_count": 4,
      "outputs": [
        {
          "output_type": "execute_result",
          "data": {
            "text/plain": [
              "(78.04003601545995, 81.95996398454005)"
            ]
          },
          "metadata": {},
          "execution_count": 4
        }
      ]
    },
    {
      "cell_type": "markdown",
      "source": [
        "##2\n",
        "В результате 10 независимых измерений некоторой величины X, выполненных с\n",
        "одинаковой точностью,\n",
        "получены опытные данные:\n",
        "6.9, 6.1, 6.2, 6.8, 7.5, 6.3, 6.4, 6.9, 6.7, 6.1\n",
        "Предполагая, что результаты измерений подчинены нормальному закону распределения\n",
        "вероятностей,\n",
        "оценить истинное значение величины X при помощи доверительного интервала,\n",
        "покрывающего это\n",
        "значение с доверительной вероятностью 0,95."
      ],
      "metadata": {
        "id": "Il-MkhmqsEo2"
      }
    },
    {
      "cell_type": "code",
      "source": [
        "x = np.array([6.9, 6.1, 6.2, 6.8, 7.5, 6.3, 6.4, 6.9, 6.7, 6.1])\n",
        "M = np.mean(x)\n",
        "α = 0.05\n",
        "σ = np.std(x, ddof=1)\n",
        "n = len(x)\n",
        "M, σ, n"
      ],
      "metadata": {
        "colab": {
          "base_uri": "https://localhost:8080/"
        },
        "id": "pqAdXvwisKAf",
        "outputId": "2c9499a6-f07f-4cf4-b01b-a1524073db65"
      },
      "execution_count": 9,
      "outputs": [
        {
          "output_type": "execute_result",
          "data": {
            "text/plain": [
              "(6.590000000000001, 0.4508017549014448, 10)"
            ]
          },
          "metadata": {},
          "execution_count": 9
        }
      ]
    },
    {
      "cell_type": "code",
      "source": [
        "t = stats.t.ppf(α / 2, n - 1)\n",
        "t"
      ],
      "metadata": {
        "colab": {
          "base_uri": "https://localhost:8080/"
        },
        "id": "G19-1D2ytY1d",
        "outputId": "1d9da338-a179-4b36-8e0e-bd6d9fa7fd60"
      },
      "execution_count": 10,
      "outputs": [
        {
          "output_type": "execute_result",
          "data": {
            "text/plain": [
              "-2.262157162740992"
            ]
          },
          "metadata": {},
          "execution_count": 10
        }
      ]
    },
    {
      "cell_type": "code",
      "source": [
        "M + t * (σ / np.sqrt(n)), M - t * (σ / np.sqrt(n))"
      ],
      "metadata": {
        "colab": {
          "base_uri": "https://localhost:8080/"
        },
        "id": "jpiLUYDRtEYR",
        "outputId": "792afdef-1d11-43d0-d162-b26b4f5da404"
      },
      "execution_count": 6,
      "outputs": [
        {
          "output_type": "execute_result",
          "data": {
            "text/plain": [
              "(78.0306894301508, 81.9693105698492)"
            ]
          },
          "metadata": {},
          "execution_count": 6
        }
      ]
    },
    {
      "cell_type": "markdown",
      "source": [
        "##3\n",
        "Рост дочерей 175, 167, 154, 174, 178, 148, 160, 167, 169, 170\n",
        "\n",
        "Рост матерей 178, 165, 165, 173, 168, 155, 160, 164, 178, 175\n",
        "\n",
        "Используя эти данные построить 95% доверительный интервал для разности среднего\n",
        "роста родителей и детей."
      ],
      "metadata": {
        "id": "3Y6thPRusgyj"
      }
    },
    {
      "cell_type": "code",
      "source": [
        "d = np.array([175, 167, 154, 174, 178, 148, 160, 167, 169, 170])\n",
        "m = np.array([178, 165, 165, 173, 168, 155, 160, 164, 178, 175])\n",
        "α = 0.05"
      ],
      "metadata": {
        "id": "3tO73aQzsiLb"
      },
      "execution_count": 20,
      "outputs": []
    },
    {
      "cell_type": "code",
      "source": [
        "mean_d = np.mean(d)\n",
        "mean_m = np.mean(m)\n",
        "v_d = np.var(d, ddof=1)\n",
        "v_m = np.var(m, ddof=1)\n",
        "n_d = len(d)\n",
        "n_m = len(m)\n",
        "\n",
        "mean_d, mean_m, v_d, v_m, n_d, n_m"
      ],
      "metadata": {
        "colab": {
          "base_uri": "https://localhost:8080/"
        },
        "id": "tYURwHVhvG-f",
        "outputId": "60568377-ff05-491f-d75f-5e95f0cb9813"
      },
      "execution_count": 21,
      "outputs": [
        {
          "output_type": "execute_result",
          "data": {
            "text/plain": [
              "(166.2, 168.1, 91.06666666666666, 60.10000000000001, 10, 10)"
            ]
          },
          "metadata": {},
          "execution_count": 21
        }
      ]
    },
    {
      "cell_type": "code",
      "source": [
        "Δ = np.abs(mean_d - mean_m)\n",
        "Δ"
      ],
      "metadata": {
        "colab": {
          "base_uri": "https://localhost:8080/"
        },
        "id": "PMH-F0Uf2BzB",
        "outputId": "17822643-5a8f-4ee6-bb15-88d499c139c7"
      },
      "execution_count": 13,
      "outputs": [
        {
          "output_type": "execute_result",
          "data": {
            "text/plain": [
              "1.9000000000000057"
            ]
          },
          "metadata": {},
          "execution_count": 13
        }
      ]
    },
    {
      "cell_type": "code",
      "source": [
        "z = stats.norm.ppf(α / 2)\n",
        "z"
      ],
      "metadata": {
        "colab": {
          "base_uri": "https://localhost:8080/"
        },
        "id": "umb5taawvzQd",
        "outputId": "de09b96e-adb9-4594-aac7-0d1f1c1d6f20"
      },
      "execution_count": 19,
      "outputs": [
        {
          "output_type": "execute_result",
          "data": {
            "text/plain": [
              "-1.9599639845400545"
            ]
          },
          "metadata": {},
          "execution_count": 19
        }
      ]
    },
    {
      "cell_type": "code",
      "source": [
        "d = 0.5 * (v_d + v_m)\n",
        "d"
      ],
      "metadata": {
        "colab": {
          "base_uri": "https://localhost:8080/"
        },
        "id": "kod_ofBK2MCL",
        "outputId": "5c890256-3e15-42df-acd7-9f6c6af53db7"
      },
      "execution_count": 15,
      "outputs": [
        {
          "output_type": "execute_result",
          "data": {
            "text/plain": [
              "75.58333333333334"
            ]
          },
          "metadata": {},
          "execution_count": 15
        }
      ]
    },
    {
      "cell_type": "code",
      "source": [
        "S = np.sqrt(d / n_d + d / n_m)\n",
        "S"
      ],
      "metadata": {
        "colab": {
          "base_uri": "https://localhost:8080/"
        },
        "id": "2FSIJ9Wy2ePk",
        "outputId": "b78a1983-6e55-4cfe-8f41-001e5d2154da"
      },
      "execution_count": 16,
      "outputs": [
        {
          "output_type": "execute_result",
          "data": {
            "text/plain": [
              "3.8880157750022915"
            ]
          },
          "metadata": {},
          "execution_count": 16
        }
      ]
    },
    {
      "cell_type": "code",
      "source": [
        "Δ + z * S, Δ - z * S"
      ],
      "metadata": {
        "colab": {
          "base_uri": "https://localhost:8080/"
        },
        "id": "TLfYZeRR25Gc",
        "outputId": "7fdd03f1-2a2a-464d-9ae9-203274f9f392"
      },
      "execution_count": 18,
      "outputs": [
        {
          "output_type": "execute_result",
          "data": {
            "text/plain": [
              "(-5.720370890328073, 9.520370890328085)"
            ]
          },
          "metadata": {},
          "execution_count": 18
        }
      ]
    }
  ]
}