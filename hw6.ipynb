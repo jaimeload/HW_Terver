{
  "nbformat": 4,
  "nbformat_minor": 0,
  "metadata": {
    "colab": {
      "provenance": [],
      "authorship_tag": "ABX9TyORzfvu1dEn1UAJC76Bwdgk",
      "include_colab_link": true
    },
    "kernelspec": {
      "name": "python3",
      "display_name": "Python 3"
    },
    "language_info": {
      "name": "python"
    }
  },
  "cells": [
    {
      "cell_type": "markdown",
      "metadata": {
        "id": "view-in-github",
        "colab_type": "text"
      },
      "source": [
        "<a href=\"https://colab.research.google.com/github/jaimeload/HW_Terver/blob/main/hw6.ipynb\" target=\"_parent\"><img src=\"https://colab.research.google.com/assets/colab-badge.svg\" alt=\"Open In Colab\"/></a>"
      ]
    },
    {
      "cell_type": "code",
      "source": [
        "import numpy as np\n",
        "from scipy import stats"
      ],
      "metadata": {
        "id": "5F5qDVKcqoiF"
      },
      "execution_count": 8,
      "outputs": []
    },
    {
      "cell_type": "markdown",
      "source": [
        "##1\n",
        "Известно, что генеральная совокупность распределена нормально\n",
        "со средним квадратическим отклонением, равным 16.\n",
        "Найти доверительный интервал для оценки математического ожидания с надежностью\n",
        "0.95,\n",
        "если выборочная средняя M = 80, а объем выборки n = 256."
      ],
      "metadata": {
        "id": "Jxg61Gb0prJf"
      }
    },
    {
      "cell_type": "code",
      "execution_count": 25,
      "metadata": {
        "id": "J8-FSRyZpi4m"
      },
      "outputs": [],
      "source": [
        "M = 80\n",
        "α = 0.05\n",
        "σ = 16\n",
        "n = 256"
      ]
    },
    {
      "cell_type": "code",
      "source": [
        "z = stats.norm.ppf(α / 2)\n",
        "z"
      ],
      "metadata": {
        "colab": {
          "base_uri": "https://localhost:8080/"
        },
        "id": "AOl_oRH9rfsi",
        "outputId": "8209ecf6-04a9-4303-c42a-608a3aa045f2"
      },
      "execution_count": 26,
      "outputs": [
        {
          "output_type": "execute_result",
          "data": {
            "text/plain": [
              "-1.9599639845400545"
            ]
          },
          "metadata": {},
          "execution_count": 26
        }
      ]
    },
    {
      "cell_type": "code",
      "source": [
        "M + z * (σ / np.sqrt(n)), M - z * (σ / np.sqrt(n))"
      ],
      "metadata": {
        "colab": {
          "base_uri": "https://localhost:8080/"
        },
        "id": "d2R9iXMPrux1",
        "outputId": "b441b30f-1c7b-4dab-e958-f251735ce6ad"
      },
      "execution_count": 27,
      "outputs": [
        {
          "output_type": "execute_result",
          "data": {
            "text/plain": [
              "(78.04003601545995, 81.95996398454005)"
            ]
          },
          "metadata": {},
          "execution_count": 27
        }
      ]
    },
    {
      "cell_type": "markdown",
      "source": [
        "##2\n",
        "В результате 10 независимых измерений некоторой величины X, выполненных с\n",
        "одинаковой точностью,\n",
        "получены опытные данные:\n",
        "6.9, 6.1, 6.2, 6.8, 7.5, 6.3, 6.4, 6.9, 6.7, 6.1\n",
        "Предполагая, что результаты измерений подчинены нормальному закону распределения\n",
        "вероятностей,\n",
        "оценить истинное значение величины X при помощи доверительного интервала,\n",
        "покрывающего это\n",
        "значение с доверительной вероятностью 0,95."
      ],
      "metadata": {
        "id": "Il-MkhmqsEo2"
      }
    },
    {
      "cell_type": "code",
      "source": [
        "x = np.array([6.9, 6.1, 6.2, 6.8, 7.5, 6.3, 6.4, 6.9, 6.7, 6.1])\n",
        "M = np.mean(x)\n",
        "α = 0.05\n",
        "σ = np.std(x, ddof=1)\n",
        "n = len(x)\n",
        "M, σ, n"
      ],
      "metadata": {
        "colab": {
          "base_uri": "https://localhost:8080/"
        },
        "id": "pqAdXvwisKAf",
        "outputId": "38be3fba-8930-4241-c151-0195f92ece9a"
      },
      "execution_count": 28,
      "outputs": [
        {
          "output_type": "execute_result",
          "data": {
            "text/plain": [
              "(6.590000000000001, 0.4508017549014448, 10)"
            ]
          },
          "metadata": {},
          "execution_count": 28
        }
      ]
    },
    {
      "cell_type": "code",
      "source": [
        "t = stats.t.ppf(α / 2, n - 1)\n",
        "t"
      ],
      "metadata": {
        "colab": {
          "base_uri": "https://localhost:8080/"
        },
        "id": "G19-1D2ytY1d",
        "outputId": "0e9c1d3d-ffd7-4df9-d6dd-d497097edf39"
      },
      "execution_count": 29,
      "outputs": [
        {
          "output_type": "execute_result",
          "data": {
            "text/plain": [
              "-2.262157162740992"
            ]
          },
          "metadata": {},
          "execution_count": 29
        }
      ]
    },
    {
      "cell_type": "code",
      "source": [
        "M + t * (σ / np.sqrt(n)), M - t * (σ / np.sqrt(n))"
      ],
      "metadata": {
        "colab": {
          "base_uri": "https://localhost:8080/"
        },
        "id": "jpiLUYDRtEYR",
        "outputId": "0958a540-13c6-4c99-ef61-ecbef46c2136"
      },
      "execution_count": 30,
      "outputs": [
        {
          "output_type": "execute_result",
          "data": {
            "text/plain": [
              "(6.267515851415713, 6.912484148584288)"
            ]
          },
          "metadata": {},
          "execution_count": 30
        }
      ]
    },
    {
      "cell_type": "markdown",
      "source": [
        "##3\n",
        "Рост дочерей 175, 167, 154, 174, 178, 148, 160, 167, 169, 170\n",
        "\n",
        "Рост матерей 178, 165, 165, 173, 168, 155, 160, 164, 178, 175\n",
        "\n",
        "Используя эти данные построить 95% доверительный интервал для разности среднего\n",
        "роста родителей и детей."
      ],
      "metadata": {
        "id": "3Y6thPRusgyj"
      }
    },
    {
      "cell_type": "code",
      "source": [
        "d = np.array([175, 167, 154, 174, 178, 148, 160, 167, 169, 170])\n",
        "m = np.array([178, 165, 165, 173, 168, 155, 160, 164, 178, 175])\n",
        "α = 0.05"
      ],
      "metadata": {
        "id": "3tO73aQzsiLb"
      },
      "execution_count": 31,
      "outputs": []
    },
    {
      "cell_type": "code",
      "source": [
        "mean_d = np.mean(d)\n",
        "mean_m = np.mean(m)\n",
        "v_d = np.var(d, ddof=1)\n",
        "v_m = np.var(m, ddof=1)\n",
        "n_d = len(d)\n",
        "n_m = len(m)\n",
        "\n",
        "mean_d, mean_m, v_d, v_m, n_d, n_m"
      ],
      "metadata": {
        "colab": {
          "base_uri": "https://localhost:8080/"
        },
        "id": "tYURwHVhvG-f",
        "outputId": "25e09ebd-6cd5-4d57-ffb7-4cf671b2fe46"
      },
      "execution_count": 32,
      "outputs": [
        {
          "output_type": "execute_result",
          "data": {
            "text/plain": [
              "(166.2, 168.1, 91.06666666666666, 60.10000000000001, 10, 10)"
            ]
          },
          "metadata": {},
          "execution_count": 32
        }
      ]
    },
    {
      "cell_type": "code",
      "source": [
        "Δ = np.abs(mean_d - mean_m)\n",
        "Δ"
      ],
      "metadata": {
        "colab": {
          "base_uri": "https://localhost:8080/"
        },
        "id": "PMH-F0Uf2BzB",
        "outputId": "faeca658-d88e-40cf-d4cd-63bf961a646e"
      },
      "execution_count": 33,
      "outputs": [
        {
          "output_type": "execute_result",
          "data": {
            "text/plain": [
              "1.9000000000000057"
            ]
          },
          "metadata": {},
          "execution_count": 33
        }
      ]
    },
    {
      "cell_type": "code",
      "source": [
        "z = stats.norm.ppf(α / 2)\n",
        "z"
      ],
      "metadata": {
        "colab": {
          "base_uri": "https://localhost:8080/"
        },
        "id": "umb5taawvzQd",
        "outputId": "ff3580aa-c02d-4846-e343-e728aaa18fe5"
      },
      "execution_count": 34,
      "outputs": [
        {
          "output_type": "execute_result",
          "data": {
            "text/plain": [
              "-1.9599639845400545"
            ]
          },
          "metadata": {},
          "execution_count": 34
        }
      ]
    },
    {
      "cell_type": "code",
      "source": [
        "d = 0.5 * (v_d + v_m)\n",
        "d"
      ],
      "metadata": {
        "colab": {
          "base_uri": "https://localhost:8080/"
        },
        "id": "kod_ofBK2MCL",
        "outputId": "44e07957-5f34-48ae-f594-35ea18432631"
      },
      "execution_count": 35,
      "outputs": [
        {
          "output_type": "execute_result",
          "data": {
            "text/plain": [
              "75.58333333333334"
            ]
          },
          "metadata": {},
          "execution_count": 35
        }
      ]
    },
    {
      "cell_type": "code",
      "source": [
        "S = np.sqrt(d / n_d + d / n_m)\n",
        "S"
      ],
      "metadata": {
        "colab": {
          "base_uri": "https://localhost:8080/"
        },
        "id": "2FSIJ9Wy2ePk",
        "outputId": "d6971932-5884-4182-8917-5cc9f56dcdb4"
      },
      "execution_count": 36,
      "outputs": [
        {
          "output_type": "execute_result",
          "data": {
            "text/plain": [
              "3.8880157750022915"
            ]
          },
          "metadata": {},
          "execution_count": 36
        }
      ]
    },
    {
      "cell_type": "code",
      "source": [
        "Δ + z * S, Δ - z * S"
      ],
      "metadata": {
        "colab": {
          "base_uri": "https://localhost:8080/"
        },
        "id": "TLfYZeRR25Gc",
        "outputId": "d85bea63-8092-4ce0-c8d1-2cafe2e84c8c"
      },
      "execution_count": 37,
      "outputs": [
        {
          "output_type": "execute_result",
          "data": {
            "text/plain": [
              "(-5.720370890328073, 9.520370890328085)"
            ]
          },
          "metadata": {},
          "execution_count": 37
        }
      ]
    }
  ]
}