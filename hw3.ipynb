{
  "nbformat": 4,
  "nbformat_minor": 0,
  "metadata": {
    "colab": {
      "provenance": [],
      "authorship_tag": "ABX9TyNXaudJFc1c5iJ3mJOjK53T",
      "include_colab_link": true
    },
    "kernelspec": {
      "name": "python3",
      "display_name": "Python 3"
    },
    "language_info": {
      "name": "python"
    }
  },
  "cells": [
    {
      "cell_type": "markdown",
      "metadata": {
        "id": "view-in-github",
        "colab_type": "text"
      },
      "source": [
        "<a href=\"https://colab.research.google.com/github/jaimeload/HW_Terver/blob/main/hw3.ipynb\" target=\"_parent\"><img src=\"https://colab.research.google.com/assets/colab-badge.svg\" alt=\"Open In Colab\"/></a>"
      ]
    },
    {
      "cell_type": "markdown",
      "source": [
        "##1\n",
        "Даны значения зарплат из выборки выпускников: 100, 80, 75, 77, 89, 33, 45, 25, 65, 17, 30, 24, 57, 55, 70, 75, 65, 84, 90, 150. Посчитать (желательно без использования статистических методов наподобие std, var, mean) среднее арифметическое, среднее квадратичное отклонение, смещенную и несмещенную оценки дисперсий для данной выборки."
      ],
      "metadata": {
        "id": "-SYmtrdZTN1l"
      }
    },
    {
      "cell_type": "code",
      "execution_count": 83,
      "metadata": {
        "colab": {
          "base_uri": "https://localhost:8080/"
        },
        "id": "sIFQ0eWJS_oT",
        "outputId": "43be51a6-5f9e-42ab-9f15-87dd2bcd0b38"
      },
      "outputs": [
        {
          "output_type": "execute_result",
          "data": {
            "text/plain": [
              "65.3"
            ]
          },
          "metadata": {},
          "execution_count": 83
        }
      ],
      "source": [
        "import numpy as np\n",
        "x = np.array([100, 80, 75, 77, 89, 33, 45, 25, 65, 17, 30, 24, 57, 55, 70, 75, 65, 84, 90, 150])\n",
        "x_mean = x.sum() / x.size\n",
        "x_mean"
      ]
    },
    {
      "cell_type": "code",
      "source": [
        "round((np.sum((x - x_mean)**2) / x.size)**0.5, 4)"
      ],
      "metadata": {
        "colab": {
          "base_uri": "https://localhost:8080/"
        },
        "id": "qAaUtYPaTMum",
        "outputId": "b991a5f7-5aaf-475f-d7a8-9fb78ea4b89a"
      },
      "execution_count": 84,
      "outputs": [
        {
          "output_type": "execute_result",
          "data": {
            "text/plain": [
              "30.8239"
            ]
          },
          "metadata": {},
          "execution_count": 84
        }
      ]
    },
    {
      "cell_type": "code",
      "source": [
        "round(np.sum((x - x_mean)**2) / x.size, 4)"
      ],
      "metadata": {
        "colab": {
          "base_uri": "https://localhost:8080/"
        },
        "id": "cSjrYoGLwb7U",
        "outputId": "3d7cfdb2-e23e-48b6-f014-470f41eddc6c"
      },
      "execution_count": 85,
      "outputs": [
        {
          "output_type": "execute_result",
          "data": {
            "text/plain": [
              "950.11"
            ]
          },
          "metadata": {},
          "execution_count": 85
        }
      ]
    },
    {
      "cell_type": "code",
      "source": [
        "round(np.sum((x - x_mean)**2) / (x.size - 1), 4)"
      ],
      "metadata": {
        "colab": {
          "base_uri": "https://localhost:8080/"
        },
        "id": "6iLeDuudwnEe",
        "outputId": "59bc3394-5a03-4845-9aae-e9f55dcfcccd"
      },
      "execution_count": 86,
      "outputs": [
        {
          "output_type": "execute_result",
          "data": {
            "text/plain": [
              "1000.1158"
            ]
          },
          "metadata": {},
          "execution_count": 86
        }
      ]
    },
    {
      "cell_type": "markdown",
      "source": [
        "##2\n",
        "В первом ящике находится 8 мячей, из которых 5 - белые. Во втором ящике - 12 мячей, из которых 5 белых. Из первого ящика вытаскивают случайным образом два мяча, из второго - 4. Какова вероятность того, что 3 мяча белые?"
      ],
      "metadata": {
        "id": "ZlFa36bvxAPK"
      }
    },
    {
      "cell_type": "code",
      "source": [
        "from math import factorial as fc\n",
        "def combo(k, n):\n",
        "    return fc(n) / (fc(k) * fc(n - k))"
      ],
      "metadata": {
        "id": "DfGnLNZfy6q0"
      },
      "execution_count": 121,
      "outputs": []
    },
    {
      "cell_type": "code",
      "source": [
        "round(((combo(2, 5) * combo(1, 5)) / (combo(2, 8) * combo(4, 12))) + ((combo(1, 5) * combo(2, 5)) / (combo(2, 8) * combo(4, 12))) \\\n",
        " + ((combo(0, 5) * combo(3, 5)) / (combo(2, 8) * combo(4, 12))), 4)"
      ],
      "metadata": {
        "colab": {
          "base_uri": "https://localhost:8080/"
        },
        "id": "BUBDNK0JxR2w",
        "outputId": "4ce9bc35-a1a3-4a55-c73e-35fdd4e63939"
      },
      "execution_count": 122,
      "outputs": [
        {
          "output_type": "execute_result",
          "data": {
            "text/plain": [
              "0.0079"
            ]
          },
          "metadata": {},
          "execution_count": 122
        }
      ]
    },
    {
      "cell_type": "markdown",
      "source": [
        "##3\n",
        "На соревновании по биатлону один из трех спортсменов стреляет и попадает в мишень. Вероятность попадания для первого спортсмена равна 0.9, для второго — 0.8, для третьего — 0.6. Найти вероятность того, что выстрел произведен: a). первым спортсменом б). вторым спортсменом в). третьим спортсменом."
      ],
      "metadata": {
        "id": "AWGjw_-yxYvu"
      }
    },
    {
      "cell_type": "code",
      "source": [
        "sp_full = 1/3 * 0.9 + 1/3 * 0.8 + 1/3 * 0.6\n",
        "round(sp_full, 4)"
      ],
      "metadata": {
        "colab": {
          "base_uri": "https://localhost:8080/"
        },
        "id": "QyTfXW2OxdJH",
        "outputId": "9a2010f5-2fa4-408d-d64d-1136c9874919"
      },
      "execution_count": 88,
      "outputs": [
        {
          "output_type": "execute_result",
          "data": {
            "text/plain": [
              "0.7667"
            ]
          },
          "metadata": {},
          "execution_count": 88
        }
      ]
    },
    {
      "cell_type": "code",
      "source": [
        "sp1 = (1/3 * 0.9) / sp_full\n",
        "round(sp1, 4)"
      ],
      "metadata": {
        "colab": {
          "base_uri": "https://localhost:8080/"
        },
        "id": "FqHQe1FgxnhR",
        "outputId": "9e3608fd-d10f-497c-a01e-c85bb29a8512"
      },
      "execution_count": 89,
      "outputs": [
        {
          "output_type": "execute_result",
          "data": {
            "text/plain": [
              "0.3913"
            ]
          },
          "metadata": {},
          "execution_count": 89
        }
      ]
    },
    {
      "cell_type": "code",
      "source": [
        "sp2 = (1/3 * 0.8) / sp_full\n",
        "round(sp2, 4)"
      ],
      "metadata": {
        "colab": {
          "base_uri": "https://localhost:8080/"
        },
        "id": "UPkvMIx7x3zn",
        "outputId": "2c76b8c0-4e64-42a8-99ef-b2db4ab6ba11"
      },
      "execution_count": 90,
      "outputs": [
        {
          "output_type": "execute_result",
          "data": {
            "text/plain": [
              "0.3478"
            ]
          },
          "metadata": {},
          "execution_count": 90
        }
      ]
    },
    {
      "cell_type": "code",
      "source": [
        "sp3 = (1/3 * 0.6) / sp_full\n",
        "round(sp3, 4)"
      ],
      "metadata": {
        "colab": {
          "base_uri": "https://localhost:8080/"
        },
        "id": "MjFQvFkmx6zm",
        "outputId": "8dc94ca9-483f-495d-8ca4-d04ab7f1fdd8"
      },
      "execution_count": 91,
      "outputs": [
        {
          "output_type": "execute_result",
          "data": {
            "text/plain": [
              "0.2609"
            ]
          },
          "metadata": {},
          "execution_count": 91
        }
      ]
    },
    {
      "cell_type": "markdown",
      "source": [
        "##4\n",
        "В университет на факультеты A и B поступило равное количество студентов, а на факультет C студентов поступило столько же, сколько на A и B вместе. Вероятность того, что студент факультета A сдаст первую сессию, равна 0.8. Для студента факультета B эта вероятность равна 0.7, а для студента факультета C - 0.9. Студент сдал первую сессию. Какова вероятность, что он учится: a). на факультете A б). на факультете B в). на факультете C?"
      ],
      "metadata": {
        "id": "iz4grledyadI"
      }
    },
    {
      "cell_type": "code",
      "source": [
        "st_full = 1/4 * 0.8 + 1/4 * 0.7 + 1/2 * 0.9\n",
        "round(st_full, 4)"
      ],
      "metadata": {
        "colab": {
          "base_uri": "https://localhost:8080/"
        },
        "id": "w0a79ZUByiNf",
        "outputId": "1b19dd84-781b-492b-a8ee-6795aa4d61e1"
      },
      "execution_count": 92,
      "outputs": [
        {
          "output_type": "execute_result",
          "data": {
            "text/plain": [
              "0.825"
            ]
          },
          "metadata": {},
          "execution_count": 92
        }
      ]
    },
    {
      "cell_type": "code",
      "source": [
        "st_A = (1/4 * 0.8) / st_full\n",
        "round(st_A, 4)"
      ],
      "metadata": {
        "colab": {
          "base_uri": "https://localhost:8080/"
        },
        "id": "1Be7JLZezEu1",
        "outputId": "af0de8fb-0a77-422a-82ea-95a10091e390"
      },
      "execution_count": 93,
      "outputs": [
        {
          "output_type": "execute_result",
          "data": {
            "text/plain": [
              "0.2424"
            ]
          },
          "metadata": {},
          "execution_count": 93
        }
      ]
    },
    {
      "cell_type": "code",
      "source": [
        "st_B = (1/4 * 0.7) / st_full\n",
        "round(st_B, 4)"
      ],
      "metadata": {
        "colab": {
          "base_uri": "https://localhost:8080/"
        },
        "id": "U-1Xf6bRzS9g",
        "outputId": "ab9ae0eb-4c91-4e27-86f0-647bf3d2b7bd"
      },
      "execution_count": 94,
      "outputs": [
        {
          "output_type": "execute_result",
          "data": {
            "text/plain": [
              "0.2121"
            ]
          },
          "metadata": {},
          "execution_count": 94
        }
      ]
    },
    {
      "cell_type": "code",
      "source": [
        "st_C = (1/2 * 0.9) / st_full\n",
        "round(st_C, 4)"
      ],
      "metadata": {
        "colab": {
          "base_uri": "https://localhost:8080/"
        },
        "id": "3Hr-GYzDzXmP",
        "outputId": "1a476b59-cc0b-4ee5-deb4-50e6cf8040e4"
      },
      "execution_count": null,
      "outputs": [
        {
          "output_type": "execute_result",
          "data": {
            "text/plain": [
              "0.5455"
            ]
          },
          "metadata": {},
          "execution_count": 70
        }
      ]
    },
    {
      "cell_type": "markdown",
      "source": [
        "##5\n",
        "Устройство состоит из трех деталей. Для первой детали вероятность выйти из строя в первый месяц равна 0.1, для второй - 0.2, для третьей - 0.25. Какова вероятность того, что в первый месяц выйдут из строя: а). все детали б). только две детали в). хотя бы одна деталь г). от одной до двух деталей?"
      ],
      "metadata": {
        "id": "GqBiS54azlff"
      }
    },
    {
      "cell_type": "code",
      "source": [
        "round(0.1 * 0.2 * 0.25, 4)"
      ],
      "metadata": {
        "colab": {
          "base_uri": "https://localhost:8080/"
        },
        "id": "tvQvtGY0zlGZ",
        "outputId": "ffb71697-fe71-44bf-cffe-af5ebc904d43"
      },
      "execution_count": 95,
      "outputs": [
        {
          "output_type": "execute_result",
          "data": {
            "text/plain": [
              "0.005"
            ]
          },
          "metadata": {},
          "execution_count": 95
        }
      ]
    },
    {
      "cell_type": "code",
      "source": [
        "round((1 - 0.1) * 0.2 * 0.25 + 0.1 * (1 - 0.2) * 0.25 + 0.1 * 0.2 * (1 - 0.25), 4)"
      ],
      "metadata": {
        "colab": {
          "base_uri": "https://localhost:8080/"
        },
        "id": "aq8tVzDU1ZwS",
        "outputId": "cd3f0add-7a7d-4457-a3b0-8d38ac7fcc50"
      },
      "execution_count": 96,
      "outputs": [
        {
          "output_type": "execute_result",
          "data": {
            "text/plain": [
              "0.08"
            ]
          },
          "metadata": {},
          "execution_count": 96
        }
      ]
    },
    {
      "cell_type": "code",
      "source": [
        "round((1 - 0.1) * (1 - 0.2) * 0.25 + 0.1 * (1 - 0.2) * (1 - 0.25) + (1 - 0.1) * 0.2 * (1 - 0.25), 4)"
      ],
      "metadata": {
        "colab": {
          "base_uri": "https://localhost:8080/"
        },
        "id": "l3v2FnZjL8cf",
        "outputId": "436c7d0e-ed0d-401e-b830-4716d7b162b9"
      },
      "execution_count": 97,
      "outputs": [
        {
          "output_type": "execute_result",
          "data": {
            "text/plain": [
              "0.375"
            ]
          },
          "metadata": {},
          "execution_count": 97
        }
      ]
    },
    {
      "cell_type": "code",
      "source": [
        "0.08 + 0.375"
      ],
      "metadata": {
        "colab": {
          "base_uri": "https://localhost:8080/"
        },
        "id": "DKtCkF89N-7V",
        "outputId": "13f9584c-83d5-4c2d-810e-6567fc1e3077"
      },
      "execution_count": 98,
      "outputs": [
        {
          "output_type": "execute_result",
          "data": {
            "text/plain": [
              "0.455"
            ]
          },
          "metadata": {},
          "execution_count": 98
        }
      ]
    }
  ]
}