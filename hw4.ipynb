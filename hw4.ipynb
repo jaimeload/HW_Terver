{
  "nbformat": 4,
  "nbformat_minor": 0,
  "metadata": {
    "colab": {
      "provenance": [],
      "authorship_tag": "ABX9TyM9GG/kUBFVoTTusiRqfBc+",
      "include_colab_link": true
    },
    "kernelspec": {
      "name": "python3",
      "display_name": "Python 3"
    },
    "language_info": {
      "name": "python"
    }
  },
  "cells": [
    {
      "cell_type": "markdown",
      "metadata": {
        "id": "view-in-github",
        "colab_type": "text"
      },
      "source": [
        "<a href=\"https://colab.research.google.com/github/jaimeload/HW_Terver/blob/main/hw4.ipynb\" target=\"_parent\"><img src=\"https://colab.research.google.com/assets/colab-badge.svg\" alt=\"Open In Colab\"/></a>"
      ]
    },
    {
      "cell_type": "markdown",
      "source": [
        "##1\n",
        "Случайная непрерывная величина A имеет равномерное распределение на промежутке (200, 800]. Найдите ее среднее значение и дисперсию."
      ],
      "metadata": {
        "id": "CQ-3i3yPBdkn"
      }
    },
    {
      "cell_type": "code",
      "execution_count": 35,
      "metadata": {
        "colab": {
          "base_uri": "https://localhost:8080/"
        },
        "id": "ai79AQVB79tV",
        "outputId": "49efd411-cf17-402e-d162-2aecb5638af5"
      },
      "outputs": [
        {
          "output_type": "execute_result",
          "data": {
            "text/plain": [
              "500.0"
            ]
          },
          "metadata": {},
          "execution_count": 35
        }
      ],
      "source": [
        "M1 = (200 + 800) / 2\n",
        "M1"
      ]
    },
    {
      "cell_type": "code",
      "source": [
        "D1 = ((800 - 200)** 2) / 12\n",
        "D1"
      ],
      "metadata": {
        "colab": {
          "base_uri": "https://localhost:8080/"
        },
        "id": "oxrxZO2wCBwN",
        "outputId": "74e04d31-f8bd-495f-884d-1de12aa81ab0"
      },
      "execution_count": 36,
      "outputs": [
        {
          "output_type": "execute_result",
          "data": {
            "text/plain": [
              "30000.0"
            ]
          },
          "metadata": {},
          "execution_count": 36
        }
      ]
    },
    {
      "cell_type": "markdown",
      "source": [
        "##2\n",
        "О случайной непрерывной равномерно распределенной величине B известно, что ее дисперсия равна 0.2. Можно ли найти правую границу величины B и ее среднее значение зная, что левая граница равна 0.5? Если да, найдите ее.\n",
        "\n",
        "\n",
        "\n",
        "    D2 = ((b - 0.5)**2) / 12 = 0.2\n",
        "\n",
        "         (b - 0.5)**2 = 2.4\n",
        "\n",
        "         b = sqrt(2.4) + 0.5\n",
        "\n",
        "\n"
      ],
      "metadata": {
        "id": "ew7ULO53Ce1n"
      }
    },
    {
      "cell_type": "code",
      "source": [
        "from math import sqrt\n",
        "a = 0.5\n",
        "b = sqrt(2.4) + a\n",
        "b"
      ],
      "metadata": {
        "colab": {
          "base_uri": "https://localhost:8080/"
        },
        "id": "SIFKK_tzCg6e",
        "outputId": "a1c1773c-e41e-4a79-f94d-cadff253cc1e"
      },
      "execution_count": 37,
      "outputs": [
        {
          "output_type": "execute_result",
          "data": {
            "text/plain": [
              "2.049193338482967"
            ]
          },
          "metadata": {},
          "execution_count": 37
        }
      ]
    },
    {
      "cell_type": "code",
      "source": [
        "M2 = (a + b) / 2\n",
        "M2"
      ],
      "metadata": {
        "colab": {
          "base_uri": "https://localhost:8080/"
        },
        "id": "YOV05gA-H0O1",
        "outputId": "f41059a4-980c-4281-92a6-b3b795fa6e54"
      },
      "execution_count": 38,
      "outputs": [
        {
          "output_type": "execute_result",
          "data": {
            "text/plain": [
              "1.2745966692414834"
            ]
          },
          "metadata": {},
          "execution_count": 38
        }
      ]
    },
    {
      "cell_type": "markdown",
      "source": [
        "##3\n",
        "Непрерывная случайная величина X распределена нормально и задана плотностью распределения\n",
        "\n",
        "    f(x) = (1 / (4 * sqrt(2pi))) * exp((-(x+2)**2) / 32)\n",
        "\n",
        "Найдите:\n",
        "\n",
        "а).\n",
        "\n",
        "    M(X) = -2\n",
        "\n",
        "    \n",
        "б).\n",
        "\n",
        "    D(X) = 16\n",
        "\n",
        "в).\n",
        "\n",
        "    std(X) = 4"
      ],
      "metadata": {
        "id": "RQ1d-fFPIgMi"
      }
    },
    {
      "cell_type": "markdown",
      "source": [
        "##4\n",
        "Рост взрослого населения города X имеет нормальное распределение.\n",
        "Причем, средний рост равен 174 см, а среднее квадратичное отклонение равно 8 см.\n",
        "\n",
        "Какова вероятность того, что случайным образом выбранный взрослый человек имеет рост:\n",
        "\n",
        "\\\n",
        "а). больше 182 см"
      ],
      "metadata": {
        "id": "PVspzn9aK6Uk"
      }
    },
    {
      "cell_type": "code",
      "source": [
        "from scipy import stats\n",
        "1 - stats.norm.cdf(182, loc = 174, scale = 8)"
      ],
      "metadata": {
        "colab": {
          "base_uri": "https://localhost:8080/"
        },
        "id": "UFa1RvzfLQOx",
        "outputId": "b6ac731e-0060-4ce2-b71e-312e2f7369aa"
      },
      "execution_count": 39,
      "outputs": [
        {
          "output_type": "execute_result",
          "data": {
            "text/plain": [
              "0.15865525393145707"
            ]
          },
          "metadata": {},
          "execution_count": 39
        }
      ]
    },
    {
      "cell_type": "markdown",
      "source": [
        "\\\n",
        "б). больше 190 см"
      ],
      "metadata": {
        "id": "rD1TFWrHMZn4"
      }
    },
    {
      "cell_type": "code",
      "source": [
        "1 - stats.norm.cdf(190, loc = 174, scale = 8)"
      ],
      "metadata": {
        "colab": {
          "base_uri": "https://localhost:8080/"
        },
        "id": "RzXNTHwRMggI",
        "outputId": "c37d02b1-e482-49bb-a3bd-110fb872ab9d"
      },
      "execution_count": 17,
      "outputs": [
        {
          "output_type": "execute_result",
          "data": {
            "text/plain": [
              "0.02275013194817921"
            ]
          },
          "metadata": {},
          "execution_count": 17
        }
      ]
    },
    {
      "cell_type": "markdown",
      "source": [
        "\\\n",
        "в). от 166 см до 190 см"
      ],
      "metadata": {
        "id": "dSZFxhgUMroQ"
      }
    },
    {
      "cell_type": "code",
      "source": [
        "stats.norm.cdf(190, loc = 174, scale = 8) - stats.norm.cdf(166, loc = 174, scale = 8)"
      ],
      "metadata": {
        "colab": {
          "base_uri": "https://localhost:8080/"
        },
        "id": "GTIT5lByMrDZ",
        "outputId": "b12fb989-64cd-4bf4-9a6a-6ffae337e5dc"
      },
      "execution_count": 20,
      "outputs": [
        {
          "output_type": "execute_result",
          "data": {
            "text/plain": [
              "0.8185946141203637"
            ]
          },
          "metadata": {},
          "execution_count": 20
        }
      ]
    },
    {
      "cell_type": "markdown",
      "source": [
        "\\\n",
        "г). от 166 см до 182 см"
      ],
      "metadata": {
        "id": "40KcamhfNCcL"
      }
    },
    {
      "cell_type": "code",
      "source": [
        "stats.norm.cdf(182, loc = 174, scale = 8) - stats.norm.cdf(166, loc = 174, scale = 8)"
      ],
      "metadata": {
        "colab": {
          "base_uri": "https://localhost:8080/"
        },
        "id": "lTihThFoNFO0",
        "outputId": "944b54f2-8f06-4168-ac12-ed10f1235e2d"
      },
      "execution_count": 21,
      "outputs": [
        {
          "output_type": "execute_result",
          "data": {
            "text/plain": [
              "0.6826894921370859"
            ]
          },
          "metadata": {},
          "execution_count": 21
        }
      ]
    },
    {
      "cell_type": "markdown",
      "source": [
        "\\\n",
        "д). от 158 см до 190 см"
      ],
      "metadata": {
        "id": "Vc6GJQk9NWu5"
      }
    },
    {
      "cell_type": "code",
      "source": [
        "stats.norm.cdf(190, loc = 174, scale = 8) - stats.norm.cdf(158, loc = 174, scale = 8)"
      ],
      "metadata": {
        "colab": {
          "base_uri": "https://localhost:8080/"
        },
        "id": "eNuV0M5sNZJJ",
        "outputId": "9a6fc87d-81c9-44aa-f4f8-b818b6d938c5"
      },
      "execution_count": 40,
      "outputs": [
        {
          "output_type": "execute_result",
          "data": {
            "text/plain": [
              "0.9544997361036416"
            ]
          },
          "metadata": {},
          "execution_count": 40
        }
      ]
    },
    {
      "cell_type": "markdown",
      "source": [
        "\\\n",
        "е). не выше 150 см или не ниже 190 см"
      ],
      "metadata": {
        "id": "fpj-RTSPNfzg"
      }
    },
    {
      "cell_type": "code",
      "source": [
        "1 - stats.norm.cdf(190, loc = 174, scale = 8) + stats.norm.cdf(150, loc = 174, scale = 8)"
      ],
      "metadata": {
        "colab": {
          "base_uri": "https://localhost:8080/"
        },
        "id": "SezzLhM8NinY",
        "outputId": "2e438efb-5643-4adb-9d6a-7d5f491e7ac2"
      },
      "execution_count": 28,
      "outputs": [
        {
          "output_type": "execute_result",
          "data": {
            "text/plain": [
              "0.0241000299798093"
            ]
          },
          "metadata": {},
          "execution_count": 28
        }
      ]
    },
    {
      "cell_type": "markdown",
      "source": [
        "\\\n",
        "ё). не выше 150 см или не ниже 198 см"
      ],
      "metadata": {
        "id": "YNaMh9vyOJoY"
      }
    },
    {
      "cell_type": "code",
      "source": [
        "1 - stats.norm.cdf(198, loc = 174, scale = 8) + stats.norm.cdf(150, loc = 174, scale = 8)"
      ],
      "metadata": {
        "colab": {
          "base_uri": "https://localhost:8080/"
        },
        "id": "WeRPPWgtOM_0",
        "outputId": "a37f377e-2072-4776-b2eb-89ba36094516"
      },
      "execution_count": 29,
      "outputs": [
        {
          "output_type": "execute_result",
          "data": {
            "text/plain": [
              "0.0026997960632601965"
            ]
          },
          "metadata": {},
          "execution_count": 29
        }
      ]
    },
    {
      "cell_type": "markdown",
      "source": [
        "\\\n",
        "ж). ниже 166 см."
      ],
      "metadata": {
        "id": "TCeXydOJOa-Z"
      }
    },
    {
      "cell_type": "code",
      "source": [
        "stats.norm.cdf(166, loc = 174, scale = 8)"
      ],
      "metadata": {
        "colab": {
          "base_uri": "https://localhost:8080/"
        },
        "id": "ix23SMQTObjm",
        "outputId": "02240b3f-7878-44d4-f51c-16fa13cf7c11"
      },
      "execution_count": 30,
      "outputs": [
        {
          "output_type": "execute_result",
          "data": {
            "text/plain": [
              "0.15865525393145707"
            ]
          },
          "metadata": {},
          "execution_count": 30
        }
      ]
    },
    {
      "cell_type": "markdown",
      "source": [
        "##5\n",
        "На сколько сигм (средних квадратичных отклонений) отклоняется рост человека, равный 190 см, от математического ожидания роста в популяции, в которой M(X) = 178 см и D(X) = 25 кв.см?"
      ],
      "metadata": {
        "id": "ghj-tY_xOu2p"
      }
    },
    {
      "cell_type": "code",
      "source": [
        "count_sigm = (190 - 178) / sqrt(25)\n",
        "count_sigm"
      ],
      "metadata": {
        "colab": {
          "base_uri": "https://localhost:8080/"
        },
        "id": "eYOEe6zNOyQp",
        "outputId": "a5882609-d53b-40e7-fb37-a7d3b6cab092"
      },
      "execution_count": 41,
      "outputs": [
        {
          "output_type": "execute_result",
          "data": {
            "text/plain": [
              "2.4"
            ]
          },
          "metadata": {},
          "execution_count": 41
        }
      ]
    }
  ]
}