{
  "nbformat": 4,
  "nbformat_minor": 0,
  "metadata": {
    "colab": {
      "provenance": [],
      "authorship_tag": "ABX9TyMsLDxSGjlNkSsHha6j08aC",
      "include_colab_link": true
    },
    "kernelspec": {
      "name": "python3",
      "display_name": "Python 3"
    },
    "language_info": {
      "name": "python"
    }
  },
  "cells": [
    {
      "cell_type": "markdown",
      "metadata": {
        "id": "view-in-github",
        "colab_type": "text"
      },
      "source": [
        "<a href=\"https://colab.research.google.com/github/jaimeload/HW_Terver/blob/main/hw9.ipynb\" target=\"_parent\"><img src=\"https://colab.research.google.com/assets/colab-badge.svg\" alt=\"Open In Colab\"/></a>"
      ]
    },
    {
      "cell_type": "code",
      "execution_count": 20,
      "metadata": {
        "id": "RhvfOR9K58XC"
      },
      "outputs": [],
      "source": [
        "import numpy as np\n",
        "from scipy import stats"
      ]
    },
    {
      "cell_type": "markdown",
      "source": [
        "##1\n",
        "Даны значения величины заработной платы заемщиков банка (zp) и значения их\n",
        "поведенческого кредитного скоринга (ks):\n",
        "\n",
        "    zp = [35, 45, 190, 200, 40, 70, 54, 150, 120, 110],\n",
        "\n",
        "    ks = [401, 574, 874, 919, 459, 739, 653, 902, 746, 832].\n",
        "\n",
        "Используя математические\n",
        "операции, посчитать коэффициенты линейной регрессии, приняв за X заработную плату\n",
        "(то есть, zp - признак), а за y - значения скорингового балла (то есть, ks - целевая\n",
        "переменная). Произвести расчет как с использованием intercept, так и без."
      ],
      "metadata": {
        "id": "TWZVz9oXbYiX"
      }
    },
    {
      "cell_type": "code",
      "source": [
        "x = np.array([35, 45, 190, 200, 40, 70, 54, 150, 120, 110])\n",
        "y = np.array( [401, 574, 874, 919, 459, 739, 653, 902, 746, 832])"
      ],
      "metadata": {
        "id": "6CXaJQ4BbkVH"
      },
      "execution_count": 21,
      "outputs": []
    },
    {
      "cell_type": "code",
      "source": [
        "b = (np.mean(x * y) - (np.mean(x) * np.mean(y))) / (np.mean(x**2) - (np.mean(x)**2))\n",
        "b"
      ],
      "metadata": {
        "colab": {
          "base_uri": "https://localhost:8080/"
        },
        "id": "rck6RVhte-4f",
        "outputId": "9c88823d-9a03-45ec-de06-bc5762729180"
      },
      "execution_count": 22,
      "outputs": [
        {
          "output_type": "execute_result",
          "data": {
            "text/plain": [
              "2.620538882402765"
            ]
          },
          "metadata": {},
          "execution_count": 22
        }
      ]
    },
    {
      "cell_type": "code",
      "source": [
        "bi = np.mean(y) - (b * np.mean(x))\n",
        "bi"
      ],
      "metadata": {
        "colab": {
          "base_uri": "https://localhost:8080/"
        },
        "id": "Ox0z6czYiQNj",
        "outputId": "2f5e22a7-9ba4-4696-e53e-23930aa8da2f"
      },
      "execution_count": 23,
      "outputs": [
        {
          "output_type": "execute_result",
          "data": {
            "text/plain": [
              "444.1773573243596"
            ]
          },
          "metadata": {},
          "execution_count": 23
        }
      ]
    },
    {
      "cell_type": "markdown",
      "source": [
        "##2\n",
        "Посчитать коэффициент линейной регрессии при заработной плате (zp), используя\n",
        "градиентный спуск (без intercept)."
      ],
      "metadata": {
        "id": "NKnolvDLjIpU"
      }
    },
    {
      "cell_type": "code",
      "source": [
        "α = 0.000001\n",
        "B1 = 0.1\n",
        "n = len(x)"
      ],
      "metadata": {
        "id": "f1bLObLm0TVv"
      },
      "execution_count": 24,
      "outputs": []
    },
    {
      "cell_type": "code",
      "source": [
        "def mse_(B1, y = y, x = x, n = n):\n",
        "    return np.sum((B1 * x - y)**2) / n"
      ],
      "metadata": {
        "id": "0UmFW12rjNUl"
      },
      "execution_count": 25,
      "outputs": []
    },
    {
      "cell_type": "code",
      "source": [
        "for i in range (3000):\n",
        "    B1 -= α * (2 / n) * np.sum((B1 * x - y) * x)\n",
        "    if i % 500 == 0:\n",
        "        print('Iteration = {i}, B1 = {B1}, mse = {mse}'.format(i = i, B1 = B1, mse = mse_(B1)))"
      ],
      "metadata": {
        "colab": {
          "base_uri": "https://localhost:8080/"
        },
        "id": "LD2N4apS09qv",
        "outputId": "236fe390-cd53-44d3-a57f-14a23181d4cc"
      },
      "execution_count": 26,
      "outputs": [
        {
          "output_type": "stream",
          "name": "stdout",
          "text": [
            "Iteration = 0, B1 = 0.25952808, mse = 493237.7212546963\n",
            "Iteration = 500, B1 = 5.889815595583751, mse = 56516.858416040064\n",
            "Iteration = 1000, B1 = 5.8898204201285544, mse = 56516.85841571941\n",
            "Iteration = 1500, B1 = 5.889820420132673, mse = 56516.85841571943\n",
            "Iteration = 2000, B1 = 5.889820420132673, mse = 56516.85841571943\n",
            "Iteration = 2500, B1 = 5.889820420132673, mse = 56516.85841571943\n"
          ]
        }
      ]
    },
    {
      "cell_type": "code",
      "source": [
        "mse_(5.8898)"
      ],
      "metadata": {
        "colab": {
          "base_uri": "https://localhost:8080/"
        },
        "id": "tXmKFrZ62tcY",
        "outputId": "ee318ee2-f524-49b7-e3af-368b4fdc0993"
      },
      "execution_count": 27,
      "outputs": [
        {
          "output_type": "execute_result",
          "data": {
            "text/plain": [
              "56516.858421464"
            ]
          },
          "metadata": {},
          "execution_count": 27
        }
      ]
    }
  ]
}