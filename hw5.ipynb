{
  "nbformat": 4,
  "nbformat_minor": 0,
  "metadata": {
    "colab": {
      "provenance": [],
      "authorship_tag": "ABX9TyNaOec/SbAsJEeyBBWM4lDa",
      "include_colab_link": true
    },
    "kernelspec": {
      "name": "python3",
      "display_name": "Python 3"
    },
    "language_info": {
      "name": "python"
    }
  },
  "cells": [
    {
      "cell_type": "markdown",
      "metadata": {
        "id": "view-in-github",
        "colab_type": "text"
      },
      "source": [
        "<a href=\"https://colab.research.google.com/github/jaimeload/HW_Terver/blob/main/hw5.ipynb\" target=\"_parent\"><img src=\"https://colab.research.google.com/assets/colab-badge.svg\" alt=\"Open In Colab\"/></a>"
      ]
    },
    {
      "cell_type": "code",
      "source": [
        "import numpy as np\n",
        "from scipy import stats"
      ],
      "metadata": {
        "id": "_Q4kTmmUkRt3"
      },
      "execution_count": 2,
      "outputs": []
    },
    {
      "cell_type": "markdown",
      "source": [
        "##1\n",
        "Когда используется критерий Стьюдента, а когда Z –критерий?\n",
        "\n",
        "    Z–критерий используется в случае большого количества наблюдаемых значений\n",
        "      и когда известна сигма генеральной совокупности, а\n",
        "\n",
        "    критерий Стьюдента - в противном случае, когда выборка небольшая и дисперсия неизвестна"
      ],
      "metadata": {
        "id": "n8zOxEPjvjE3"
      }
    },
    {
      "cell_type": "markdown",
      "source": [
        "##2\n",
        "Проведите тест гипотезы. Утверждается, что шарики для подшипников, изготовленные\n",
        "автоматическим станком, имеют средний диаметр 17 мм.\n",
        "\n",
        "Используя односторонний критерий с α=0,05, проверить эту гипотезу, если в выборке из n=100 шариков средний диаметр оказался равным 17.5 мм, а дисперсия генеральной совокупности известна и равна 4 кв. мм.\n",
        "\n",
        "    H₀: μ = 17\n",
        "    H₁: μ > 17 ПКО\n",
        "    α = 0.05\n",
        "    \n",
        "\n",
        "\n"
      ],
      "metadata": {
        "id": "EM3e2eKNwKku"
      }
    },
    {
      "cell_type": "code",
      "source": [
        "X = 17.5\n",
        "μ = 17\n",
        "σ = 2\n",
        "n = 100"
      ],
      "metadata": {
        "id": "jFbM60j_4-0z"
      },
      "execution_count": 5,
      "outputs": []
    },
    {
      "cell_type": "code",
      "source": [
        "zn = (X - μ) / (σ / np.sqrt(n))\n",
        "zn"
      ],
      "metadata": {
        "colab": {
          "base_uri": "https://localhost:8080/"
        },
        "id": "6SxH7Xs540Mn",
        "outputId": "209d5cdd-482f-471d-8edc-738f859b13c6"
      },
      "execution_count": 8,
      "outputs": [
        {
          "output_type": "execute_result",
          "data": {
            "text/plain": [
              "2.5"
            ]
          },
          "metadata": {},
          "execution_count": 8
        }
      ]
    },
    {
      "cell_type": "code",
      "source": [
        "α = 0.05\n",
        "zk = stats.norm.ppf(1 - α)\n",
        "zk"
      ],
      "metadata": {
        "colab": {
          "base_uri": "https://localhost:8080/"
        },
        "id": "xFjdps6VjnvX",
        "outputId": "85e7ed29-4a90-491e-dc59-6f99cf9cec9b"
      },
      "execution_count": 9,
      "outputs": [
        {
          "output_type": "execute_result",
          "data": {
            "text/plain": [
              "1.6448536269514722"
            ]
          },
          "metadata": {},
          "execution_count": 9
        }
      ]
    },
    {
      "cell_type": "markdown",
      "source": [
        "    zn > zk ==> H₀ отвергается, а значит что на уровне значимости α = 0.05 есть достаточно\n",
        "    доказательств, чтобы утверждать, что действительный средний диаметр шариков отличается от 17 мм."
      ],
      "metadata": {
        "id": "hgGy3RyjfsCi"
      }
    },
    {
      "cell_type": "code",
      "source": [],
      "metadata": {
        "id": "wokVjtuaDLvB"
      },
      "execution_count": null,
      "outputs": []
    },
    {
      "cell_type": "markdown",
      "source": [
        "##3\n",
        "Проведите тест гипотезы. Продавец утверждает, что средний вес пачки печенья\n",
        "составляет 200 г.\n",
        "\n",
        "Из партии извлечена выборка из 10 пачек. Вес каждой пачки составляет:\n",
        "\n",
        "202, 203, 199, 197, 195, 201, 200, 204, 194, 190.\n",
        "\n",
        "Известно, что их веса распределены нормально.\n",
        "\n",
        "Верно ли утверждение продавца, если учитывать, что уровень значимости 1%? (Провести двусторонний тест.)\n",
        "\n",
        "    H₀: μ = 200\n",
        "    H₁: μ != 200 ДКО\n",
        "    α = 0,01"
      ],
      "metadata": {
        "id": "djK3RXMawZRK"
      }
    },
    {
      "cell_type": "code",
      "source": [
        "μ = 200\n",
        "n = 10\n",
        "p = np.array([202, 203, 199, 197, 195, 201, 200, 204, 194, 190])\n",
        "\n",
        "X = np.mean(p)\n",
        "σ = np.std(p, ddof=1)\n",
        "X, σ"
      ],
      "metadata": {
        "colab": {
          "base_uri": "https://localhost:8080/"
        },
        "id": "5wwMyywoSS9r",
        "outputId": "f3f29b81-f42c-4001-c0a3-3634b78abcdf"
      },
      "execution_count": 10,
      "outputs": [
        {
          "output_type": "execute_result",
          "data": {
            "text/plain": [
              "(198.5, 4.453463071962462)"
            ]
          },
          "metadata": {},
          "execution_count": 10
        }
      ]
    },
    {
      "cell_type": "code",
      "source": [
        "tn = (X - μ) / (σ / np.sqrt(n))\n",
        "tn"
      ],
      "metadata": {
        "colab": {
          "base_uri": "https://localhost:8080/"
        },
        "id": "dbF8w0QHVQY0",
        "outputId": "8a5aab08-a14b-4a05-9cb6-92068077a825"
      },
      "execution_count": 11,
      "outputs": [
        {
          "output_type": "execute_result",
          "data": {
            "text/plain": [
              "-1.0651074037450896"
            ]
          },
          "metadata": {},
          "execution_count": 11
        }
      ]
    },
    {
      "cell_type": "code",
      "source": [
        "α = 0.01\n",
        "tk1 = stats.t.ppf(α / 2, n - 1)\n",
        "tk2 = stats.t.ppf(1 - α / 2, n - 1)\n",
        "tk1, tk2"
      ],
      "metadata": {
        "colab": {
          "base_uri": "https://localhost:8080/"
        },
        "id": "5FPahNx-mDZZ",
        "outputId": "50930cfd-93c3-4213-c11b-3332e13ba978"
      },
      "execution_count": 13,
      "outputs": [
        {
          "output_type": "execute_result",
          "data": {
            "text/plain": [
              "(-3.24983554401537, 3.2498355440153697)"
            ]
          },
          "metadata": {},
          "execution_count": 13
        }
      ]
    },
    {
      "cell_type": "markdown",
      "source": [
        "    tn не попадает в критическую область tk ==> H₀ не отвергается, а значит на уровне значимости α = 0.01\n",
        "    недостаточно доказательств, чтобы утверждать, что средний вес пачки печенья отличается от 200 г."
      ],
      "metadata": {
        "id": "gwkgrAGAghTR"
      }
    },
    {
      "cell_type": "markdown",
      "source": [
        "##4\n",
        "Есть ли статистически значимые различия в среднем росте матерей и\n",
        "дочерей?\n",
        "\n",
        "Рост матерей 172, 177, 158, 170, 178,175, 164, 160, 169, 165\n",
        "\n",
        "Рост взрослых дочерей: 173, 175, 162, 174, 175, 168, 155, 170, 160, 163\n",
        "\n",
        "    H₀: μ_m = μ_d\n",
        "    H₁: μ_m != μ_d\n",
        "    α = 0.05"
      ],
      "metadata": {
        "id": "Ng1w3-1Rwgn5"
      }
    },
    {
      "cell_type": "code",
      "source": [
        "m = np.array([172, 177, 158, 170, 178,175, 164, 160, 169, 165])\n",
        "d = np.array([173, 175, 162, 174, 175, 168, 155, 170, 160, 163])"
      ],
      "metadata": {
        "id": "gyLCshwEw2Vr"
      },
      "execution_count": 3,
      "outputs": []
    },
    {
      "cell_type": "code",
      "source": [
        "stats.ttest_rel(m, d)"
      ],
      "metadata": {
        "colab": {
          "base_uri": "https://localhost:8080/"
        },
        "id": "X0BSD-t-ZPmX",
        "outputId": "4e6bc2b9-4e9e-441f-df52-4940154e0c6b"
      },
      "execution_count": 4,
      "outputs": [
        {
          "output_type": "execute_result",
          "data": {
            "text/plain": [
              "TtestResult(statistic=0.6648478531431979, pvalue=0.5228168632983574, df=9)"
            ]
          },
          "metadata": {},
          "execution_count": 4
        }
      ]
    },
    {
      "cell_type": "markdown",
      "source": [
        "    0.53 > 0.05\n",
        "    p-value > α ==> H₀ не отвергается, а значи нет статистически значимых\n",
        "    различий в среднем росте матерей и дочерей на уровне значимости α"
      ],
      "metadata": {
        "id": "yoqS48IsyTRQ"
      }
    }
  ]
}