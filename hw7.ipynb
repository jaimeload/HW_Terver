{
  "nbformat": 4,
  "nbformat_minor": 0,
  "metadata": {
    "colab": {
      "provenance": [],
      "authorship_tag": "ABX9TyO5X8khXkY+phHeJpM3QMjX",
      "include_colab_link": true
    },
    "kernelspec": {
      "name": "python3",
      "display_name": "Python 3"
    },
    "language_info": {
      "name": "python"
    }
  },
  "cells": [
    {
      "cell_type": "markdown",
      "metadata": {
        "id": "view-in-github",
        "colab_type": "text"
      },
      "source": [
        "<a href=\"https://colab.research.google.com/github/jaimeload/HW_Terver/blob/main/hw7.ipynb\" target=\"_parent\"><img src=\"https://colab.research.google.com/assets/colab-badge.svg\" alt=\"Open In Colab\"/></a>"
      ]
    },
    {
      "cell_type": "code",
      "execution_count": 1,
      "metadata": {
        "id": "17KwQz5jF6nT"
      },
      "outputs": [],
      "source": [
        "import numpy as np\n",
        "from scipy import stats"
      ]
    },
    {
      "cell_type": "markdown",
      "source": [
        "Выбрать тест и проверить, есть  ли различия между выборками:"
      ],
      "metadata": {
        "id": "2fD0yTRgHmQs"
      }
    },
    {
      "cell_type": "markdown",
      "source": [
        "##1\n",
        "Даны две  независимые выборки. Не соблюдается условие нормальности\n",
        "\n",
        "x1  380, 420, 290\n",
        "\n",
        "y1  140, 360, 200, 900"
      ],
      "metadata": {
        "id": "oNyLcyRqHEhk"
      }
    },
    {
      "cell_type": "code",
      "source": [
        "x1 = np.array([380, 420, 290])\n",
        "y1 = np.array([140, 360, 200, 900])\n",
        "α = 0.05"
      ],
      "metadata": {
        "id": "R4uxIJBYHBLo"
      },
      "execution_count": 4,
      "outputs": []
    },
    {
      "cell_type": "code",
      "source": [
        "stats.mannwhitneyu(x1, y1)"
      ],
      "metadata": {
        "colab": {
          "base_uri": "https://localhost:8080/"
        },
        "id": "2mmxC-oLHen9",
        "outputId": "a0891427-b3b6-4913-bc6a-75115dc998c7"
      },
      "execution_count": 3,
      "outputs": [
        {
          "output_type": "execute_result",
          "data": {
            "text/plain": [
              "MannwhitneyuResult(statistic=8.0, pvalue=0.6285714285714286)"
            ]
          },
          "metadata": {},
          "execution_count": 3
        }
      ]
    },
    {
      "cell_type": "markdown",
      "source": [
        "    0.63 > 0.05\n",
        "    p-value > α ==> Cтатистически значимых различий на уровне значимости α нет"
      ],
      "metadata": {
        "id": "sLfatU6YH_eN"
      }
    },
    {
      "cell_type": "markdown",
      "source": [
        "##2\n",
        "Исследовалось влияние препарата на уровень давления пациентов. Сначала измерялось давление до приема препарата, потом через 10 минут и через 30 минут. Есть ли статистически значимые различия?\n",
        "\n",
        "1е измерение до приема препарата: 150, 160, 165, 145, 155\n",
        "\n",
        "2е измерение через 10 минут: 140, 155, 150,  130, 135\n",
        "\n",
        "3е измерение через 30 минут: 130, 130, 120, 130, 125"
      ],
      "metadata": {
        "id": "jOWwDJneIfLU"
      }
    },
    {
      "cell_type": "code",
      "source": [
        "before = np.array([150, 160, 165, 145, 155])\n",
        "after10 = np.array([140, 155, 150, 130, 135])\n",
        "after30 = np.array([130, 130, 120, 130, 125])\n",
        "α = 0.05"
      ],
      "metadata": {
        "id": "OPYVefWVJEeC"
      },
      "execution_count": 5,
      "outputs": []
    },
    {
      "cell_type": "code",
      "source": [
        "stats.friedmanchisquare(before, after10, after30)"
      ],
      "metadata": {
        "colab": {
          "base_uri": "https://localhost:8080/"
        },
        "id": "W4FDvSRnJfae",
        "outputId": "ea483481-fd83-4f40-948c-6a4a17711ab5"
      },
      "execution_count": 6,
      "outputs": [
        {
          "output_type": "execute_result",
          "data": {
            "text/plain": [
              "FriedmanchisquareResult(statistic=9.578947368421062, pvalue=0.00831683351100441)"
            ]
          },
          "metadata": {},
          "execution_count": 6
        }
      ]
    },
    {
      "cell_type": "markdown",
      "source": [
        "    0.008 < 0.05\n",
        "    p-value < α ==> Cтатистически значимые различия на уровне значимости α есть"
      ],
      "metadata": {
        "id": "2SUwropEJ-Kk"
      }
    },
    {
      "cell_type": "markdown",
      "source": [
        "##3\n",
        "Сравните 1 и 2 е измерения, предполагая, что 3го измерения через 30 минут не было."
      ],
      "metadata": {
        "id": "6gR-LmhaKQdH"
      }
    },
    {
      "cell_type": "code",
      "source": [
        "stats.wilcoxon(before, after10)"
      ],
      "metadata": {
        "colab": {
          "base_uri": "https://localhost:8080/"
        },
        "id": "o53v6vwGKbz9",
        "outputId": "2f90be3d-2783-4964-e856-a2f4c3eab97c"
      },
      "execution_count": 7,
      "outputs": [
        {
          "output_type": "execute_result",
          "data": {
            "text/plain": [
              "WilcoxonResult(statistic=0.0, pvalue=0.0625)"
            ]
          },
          "metadata": {},
          "execution_count": 7
        }
      ]
    },
    {
      "cell_type": "markdown",
      "source": [
        "    0.0625 > 0.05\n",
        "    p-value > α ==> Cтатистически значимых различий на уровне значимости α нет"
      ],
      "metadata": {
        "id": "VMdHtF1QKtU0"
      }
    },
    {
      "cell_type": "markdown",
      "source": [
        "##4\n",
        "Даны 3 группы  учеников плавания.\n",
        "\n",
        "В 1 группе время на дистанцию 50 м составляют:\n",
        "56, 60, 62, 55, 71, 67, 59, 58, 64, 67\n",
        "\n",
        "Вторая группа : 57, 58, 69, 48, 72, 70, 68, 71, 50, 53\n",
        "\n",
        "Третья группа: 57, 67, 49, 48, 47, 55, 66, 51, 54"
      ],
      "metadata": {
        "id": "5DmBgiPiKxZs"
      }
    },
    {
      "cell_type": "code",
      "source": [
        "g1 = np.array([56, 60, 62, 55, 71, 67, 59, 58, 64, 67])\n",
        "g2 = np.array([57, 58, 69, 48, 72, 70, 68, 71, 50, 53])\n",
        "g3 = np.array([57, 67, 49, 48, 47, 55, 66, 51, 54])\n",
        "α = 0.05"
      ],
      "metadata": {
        "id": "NFCtm0oOK-k-"
      },
      "execution_count": 10,
      "outputs": []
    },
    {
      "cell_type": "code",
      "source": [
        "stats.kruskal(g1, g2, g3)"
      ],
      "metadata": {
        "colab": {
          "base_uri": "https://localhost:8080/"
        },
        "id": "4k3yfZ9sLRF0",
        "outputId": "e246f263-855a-45b1-c3a5-21edba85265c"
      },
      "execution_count": 11,
      "outputs": [
        {
          "output_type": "execute_result",
          "data": {
            "text/plain": [
              "KruskalResult(statistic=5.465564058257224, pvalue=0.0650380998590494)"
            ]
          },
          "metadata": {},
          "execution_count": 11
        }
      ]
    },
    {
      "cell_type": "markdown",
      "source": [
        "    0.065 > 0.05\n",
        "    p-value > α ==> Cтатистически значимых различий на уровне значимости α нет"
      ],
      "metadata": {
        "id": "oCH6dwL_Ld-M"
      }
    },
    {
      "cell_type": "markdown",
      "source": [
        "##5\n",
        "Заявляется, что партия изготавливается со средним арифметическим 2,5 см. Проверить данную гипотезу, если известно, что размеры изделий подчинены нормальному закону распределения. Объем выборки 10, уровень статистической значимости 5%\n",
        "\n",
        "2.51, 2.35, 2.74, 2.56, 2.40, 2.36, 2.65, 2.7, 2.67, 2.34"
      ],
      "metadata": {
        "id": "mPof_EiCLwWF"
      }
    },
    {
      "cell_type": "markdown",
      "source": [
        "    H₀: μ = 2.5\n",
        "    H₁: μ != 2.5"
      ],
      "metadata": {
        "id": "M-PO12bnMHac"
      }
    },
    {
      "cell_type": "code",
      "source": [
        "balls = np.array([2.51, 2.35, 2.74, 2.56, 2.40, 2.36, 2.65, 2.7, 2.67, 2.34])\n",
        "X = np.mean(balls)\n",
        "μ = 2.5\n",
        "α = 0.05\n",
        "σ = np.std(balls, ddof=1)\n",
        "n = len(balls)\n",
        "X, σ, n"
      ],
      "metadata": {
        "colab": {
          "base_uri": "https://localhost:8080/"
        },
        "id": "lbws8_IWMCID",
        "outputId": "acfce1f7-6e16-4731-c700-aab1940565e5"
      },
      "execution_count": 17,
      "outputs": [
        {
          "output_type": "execute_result",
          "data": {
            "text/plain": [
              "(2.5279999999999996, 0.1572542173961923, 10)"
            ]
          },
          "metadata": {},
          "execution_count": 17
        }
      ]
    },
    {
      "cell_type": "code",
      "source": [
        "tn = (X - μ) / (σ / np.sqrt(n))\n",
        "tn"
      ],
      "metadata": {
        "colab": {
          "base_uri": "https://localhost:8080/"
        },
        "id": "Mis-mR_xOt9W",
        "outputId": "d10dd7ec-d1f4-49e1-9a78-5d74bca8bc13"
      },
      "execution_count": 18,
      "outputs": [
        {
          "output_type": "execute_result",
          "data": {
            "text/plain": [
              "0.5630613661802959"
            ]
          },
          "metadata": {},
          "execution_count": 18
        }
      ]
    },
    {
      "cell_type": "code",
      "source": [
        "tk1 = stats.t.ppf(α / 2, n - 1)\n",
        "tk2 = stats.t.ppf(1 - α / 2, n - 1)\n",
        "tk1, tk2"
      ],
      "metadata": {
        "colab": {
          "base_uri": "https://localhost:8080/"
        },
        "id": "MQnOt2ZOO9hL",
        "outputId": "b8407040-0ae2-44aa-b563-73a6762a76ca"
      },
      "execution_count": 21,
      "outputs": [
        {
          "output_type": "execute_result",
          "data": {
            "text/plain": [
              "(-2.262157162740992, 2.2621571627409915)"
            ]
          },
          "metadata": {},
          "execution_count": 21
        }
      ]
    },
    {
      "cell_type": "markdown",
      "source": [
        "    tn не попадает в критическую область tk ==> H₀ не отвергается, а значит на уровне значимости α = 0.05\n",
        "    недостаточно доказательств, чтобы утверждать, что среднее арифметическое отличается от 2.5"
      ],
      "metadata": {
        "id": "mTiUNlSuP4YD"
      }
    }
  ]
}