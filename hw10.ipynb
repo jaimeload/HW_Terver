{
  "nbformat": 4,
  "nbformat_minor": 0,
  "metadata": {
    "colab": {
      "provenance": [],
      "authorship_tag": "ABX9TyPrCfxarn1O7DMeKqH6S0+8",
      "include_colab_link": true
    },
    "kernelspec": {
      "name": "python3",
      "display_name": "Python 3"
    },
    "language_info": {
      "name": "python"
    }
  },
  "cells": [
    {
      "cell_type": "markdown",
      "metadata": {
        "id": "view-in-github",
        "colab_type": "text"
      },
      "source": [
        "<a href=\"https://colab.research.google.com/github/jaimeload/HW_Terver/blob/main/hw10.ipynb\" target=\"_parent\"><img src=\"https://colab.research.google.com/assets/colab-badge.svg\" alt=\"Open In Colab\"/></a>"
      ]
    },
    {
      "cell_type": "code",
      "execution_count": 10,
      "metadata": {
        "id": "Ud1AUJimma_H"
      },
      "outputs": [],
      "source": [
        "import numpy as np\n",
        "from scipy import stats\n",
        "from scipy import bartlett"
      ]
    },
    {
      "cell_type": "markdown",
      "source": [
        "##1\n",
        "Провести дисперсионный анализ для определения того, есть ли различия среднего роста среди взрослых футболистов, хоккеистов и штангистов. Даны значения роста в трех группах случайно выбранных спортсменов:\n",
        "\n",
        "    Футболисты: 173, 175, 180, 178, 177, 185, 183, 182.\n",
        "    Хоккеисты: 177, 179, 180, 188, 177, 172, 171, 184, 180.\n",
        "    Штангисты: 172, 173, 169, 177, 166, 180, 178, 177, 172, 166, 170.\n"
      ],
      "metadata": {
        "id": "KqnFU_Pe0tAp"
      }
    },
    {
      "cell_type": "code",
      "source": [
        "f = np.array([173, 175, 180, 178, 177, 185, 183, 182])\n",
        "h = np.array([177, 179, 180, 188, 177, 172, 171, 184, 180])\n",
        "s = np.array([172, 173, 169, 177, 166, 180, 178, 177, 172, 166, 170])"
      ],
      "metadata": {
        "id": "YQZFygSv1Owl"
      },
      "execution_count": 2,
      "outputs": []
    },
    {
      "cell_type": "code",
      "source": [
        "stats.shapiro(f)"
      ],
      "metadata": {
        "colab": {
          "base_uri": "https://localhost:8080/"
        },
        "id": "-aEVDE5E2NVY",
        "outputId": "a6159045-ab54-4a55-ebdf-9c5237ec946e"
      },
      "execution_count": 7,
      "outputs": [
        {
          "output_type": "execute_result",
          "data": {
            "text/plain": [
              "ShapiroResult(statistic=0.9775082468986511, pvalue=0.9495404362678528)"
            ]
          },
          "metadata": {},
          "execution_count": 7
        }
      ]
    },
    {
      "cell_type": "code",
      "source": [
        "stats.shapiro(h)"
      ],
      "metadata": {
        "colab": {
          "base_uri": "https://localhost:8080/"
        },
        "id": "XoSb8rEO3apI",
        "outputId": "18973721-f3b8-4f0c-ffef-27ae81a2f162"
      },
      "execution_count": 8,
      "outputs": [
        {
          "output_type": "execute_result",
          "data": {
            "text/plain": [
              "ShapiroResult(statistic=0.9579196572303772, pvalue=0.7763139009475708)"
            ]
          },
          "metadata": {},
          "execution_count": 8
        }
      ]
    },
    {
      "cell_type": "code",
      "source": [
        "stats.shapiro(s)"
      ],
      "metadata": {
        "colab": {
          "base_uri": "https://localhost:8080/"
        },
        "id": "IUj81aHm3eR9",
        "outputId": "ce0372b5-b5e5-4045-c642-78cd5d7679ca"
      },
      "execution_count": 9,
      "outputs": [
        {
          "output_type": "execute_result",
          "data": {
            "text/plain": [
              "ShapiroResult(statistic=0.9386808276176453, pvalue=0.5051165223121643)"
            ]
          },
          "metadata": {},
          "execution_count": 9
        }
      ]
    },
    {
      "cell_type": "code",
      "source": [
        "stats.bartlett(f, h, s)"
      ],
      "metadata": {
        "colab": {
          "base_uri": "https://localhost:8080/"
        },
        "id": "_-LaN5M54vlB",
        "outputId": "2307aa29-943f-46b5-80fe-b05e2f0b7ae6"
      },
      "execution_count": 13,
      "outputs": [
        {
          "output_type": "execute_result",
          "data": {
            "text/plain": [
              "BartlettResult(statistic=0.4640521043406442, pvalue=0.7929254656083131)"
            ]
          },
          "metadata": {},
          "execution_count": 13
        }
      ]
    },
    {
      "cell_type": "markdown",
      "source": [
        "    p-value выборок в тестах Шапиро и Бартлетта больше условной α = 0.05, значит распределение нормальное и мы можем использовать критерий Фишера:"
      ],
      "metadata": {
        "id": "36kyQ9tC3iI1"
      }
    },
    {
      "cell_type": "code",
      "source": [
        "stats.f_oneway(f, h, s)"
      ],
      "metadata": {
        "colab": {
          "base_uri": "https://localhost:8080/"
        },
        "id": "5yxYiI6J9Axd",
        "outputId": "f8c1035b-acfc-402b-fab4-4d8ae4b77d4a"
      },
      "execution_count": 14,
      "outputs": [
        {
          "output_type": "execute_result",
          "data": {
            "text/plain": [
              "F_onewayResult(statistic=5.500053450812596, pvalue=0.010482206918698694)"
            ]
          },
          "metadata": {},
          "execution_count": 14
        }
      ]
    },
    {
      "cell_type": "markdown",
      "source": [
        "    0.01 < 0.05\n",
        "    p-value < α ==> на уровне значимости α = 0.05 есть достаточно доказательств\n",
        "    чтобы утверждать, что есть различия среднего роста среди спортсменов"
      ],
      "metadata": {
        "id": "fMja11vnCQ5A"
      }
    }
  ]
}